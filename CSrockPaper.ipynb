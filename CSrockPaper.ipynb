{
  "nbformat": 4,
  "nbformat_minor": 0,
  "metadata": {
    "colab": {
      "provenance": [],
      "authorship_tag": "ABX9TyPV+2rsla2QWA0DNVUmbR0X",
      "include_colab_link": true
    },
    "kernelspec": {
      "name": "python3",
      "display_name": "Python 3"
    },
    "language_info": {
      "name": "python"
    }
  },
  "cells": [
    {
      "cell_type": "markdown",
      "metadata": {
        "id": "view-in-github",
        "colab_type": "text"
      },
      "source": [
        "<a href=\"https://colab.research.google.com/github/Angshuman-nits/CODSOFT/blob/main/CSrockPaper.ipynb\" target=\"_parent\"><img src=\"https://colab.research.google.com/assets/colab-badge.svg\" alt=\"Open In Colab\"/></a>"
      ]
    },
    {
      "cell_type": "code",
      "execution_count": 1,
      "metadata": {
        "colab": {
          "base_uri": "https://localhost:8080/"
        },
        "id": "ZatVUZxInBN4",
        "outputId": "a2f17a80-7c66-4f5c-84b1-86a45436864a"
      },
      "outputs": [
        {
          "output_type": "stream",
          "name": "stdout",
          "text": [
            "\n",
            "Rock, Paper, Scissors Game\n",
            "Choose: rock, paper, or scissors\n",
            "Your choice: rock\n",
            "\n",
            "You chose: rock\n",
            "Computer chose: scissors\n",
            "You win!\n",
            "\n",
            "Scores -> You: 1, Computer: 0\n",
            "Do you want to play another round? (yes/no): yes\n",
            "\n",
            "Rock, Paper, Scissors Game\n",
            "Choose: rock, paper, or scissors\n",
            "Your choice: scissors\n",
            "\n",
            "You chose: scissors\n",
            "Computer chose: rock\n",
            "You lose!\n",
            "\n",
            "Scores -> You: 1, Computer: 1\n",
            "Do you want to play another round? (yes/no): no\n",
            "Thanks for playing! Goodbye!\n"
          ]
        }
      ],
      "source": [
        "import random\n",
        "\n",
        "def get_computer_choice():\n",
        "    choices = ['rock', 'paper', 'scissors']\n",
        "    return random.choice(choices)\n",
        "\n",
        "def determine_winner(user_choice, computer_choice):\n",
        "    if user_choice == computer_choice:\n",
        "        return 'tie'\n",
        "    elif (user_choice == 'rock' and computer_choice == 'scissors') or \\\n",
        "         (user_choice == 'scissors' and computer_choice == 'paper') or \\\n",
        "         (user_choice == 'paper' and computer_choice == 'rock'):\n",
        "        return 'user'\n",
        "    else:\n",
        "        return 'computer'\n",
        "\n",
        "def display_result(user_choice, computer_choice, winner):\n",
        "    print(f\"\\nYou chose: {user_choice}\")\n",
        "    print(f\"Computer chose: {computer_choice}\")\n",
        "\n",
        "    if winner == 'tie':\n",
        "        print(\"It's a tie!\")\n",
        "    elif winner == 'user':\n",
        "        print(\"You win!\")\n",
        "    else:\n",
        "        print(\"You lose!\")\n",
        "\n",
        "def play_game():\n",
        "    user_score = 0\n",
        "    computer_score = 0\n",
        "\n",
        "    while True:\n",
        "        print(\"\\nRock, Paper, Scissors Game\")\n",
        "        print(\"Choose: rock, paper, or scissors\")\n",
        "        user_choice = input(\"Your choice: \").lower()\n",
        "\n",
        "        if user_choice not in ['rock', 'paper', 'scissors']:\n",
        "            print(\"Invalid choice. Please choose again.\")\n",
        "            continue\n",
        "\n",
        "        computer_choice = get_computer_choice()\n",
        "        winner = determine_winner(user_choice, computer_choice)\n",
        "\n",
        "        display_result(user_choice, computer_choice, winner)\n",
        "\n",
        "        if winner == 'user':\n",
        "            user_score += 1\n",
        "        elif winner == 'computer':\n",
        "            computer_score += 1\n",
        "\n",
        "        print(f\"\\nScores -> You: {user_score}, Computer: {computer_score}\")\n",
        "\n",
        "        play_again = input(\"Do you want to play another round? (yes/no): \").lower()\n",
        "        if play_again != 'yes':\n",
        "            print(\"Thanks for playing! Goodbye!\")\n",
        "            break\n",
        "\n",
        "if __name__ == \"__main__\":\n",
        "    play_game()\n"
      ]
    }
  ]
}