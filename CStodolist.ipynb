{
  "nbformat": 4,
  "nbformat_minor": 0,
  "metadata": {
    "colab": {
      "provenance": [],
      "authorship_tag": "ABX9TyP5Mbj9L0GD/fi5eLSmQ4+Z",
      "include_colab_link": true
    },
    "kernelspec": {
      "name": "python3",
      "display_name": "Python 3"
    },
    "language_info": {
      "name": "python"
    }
  },
  "cells": [
    {
      "cell_type": "markdown",
      "metadata": {
        "id": "view-in-github",
        "colab_type": "text"
      },
      "source": [
        "<a href=\"https://colab.research.google.com/github/Angshuman-nits/CODSOFT/blob/main/CStodolist.ipynb\" target=\"_parent\"><img src=\"https://colab.research.google.com/assets/colab-badge.svg\" alt=\"Open In Colab\"/></a>"
      ]
    },
    {
      "cell_type": "code",
      "source": [
        "import sys\n",
        "\n",
        "class ToDoList:\n",
        "    def __init__(self):\n",
        "        self.tasks = []\n",
        "\n",
        "    def add_task(self, task):\n",
        "        self.tasks.append({\"task\": task, \"done\": False})\n",
        "        print(f\"Added task: {task}\")\n",
        "\n",
        "    def list_tasks(self):\n",
        "        if not self.tasks:\n",
        "            print(\"No tasks in the list.\")\n",
        "        else:\n",
        "            for idx, task in enumerate(self.tasks, 1):\n",
        "                status = \"Done\" if task[\"done\"] else \"Not Done\"\n",
        "                print(f\"{idx}. {task['task']} - {status}\")\n",
        "\n",
        "    def mark_done(self, task_number):\n",
        "        if 0 < task_number <= len(self.tasks):\n",
        "            self.tasks[task_number - 1][\"done\"] = True\n",
        "            print(f\"Task {task_number} marked as done.\")\n",
        "        else:\n",
        "            print(\"Invalid task number.\")\n",
        "\n",
        "    def remove_task(self, task_number):\n",
        "        if 0 < task_number <= len(self.tasks):\n",
        "            removed_task = self.tasks.pop(task_number - 1)\n",
        "            print(f\"Removed task: {removed_task['task']}\")\n",
        "        else:\n",
        "            print(\"Invalid task number.\")\n",
        "\n",
        "def main():\n",
        "    todo_list = ToDoList()\n",
        "\n",
        "    while True:\n",
        "        print(\"\\nTo-Do List Application\")\n",
        "        print(\"1. Add task\")\n",
        "        print(\"2. List tasks\")\n",
        "        print(\"3. Mark task as done\")\n",
        "        print(\"4. Remove task\")\n",
        "        print(\"5. Exit\")\n",
        "\n",
        "        choice = input(\"Choose an option: \")\n",
        "\n",
        "        if choice == \"1\":\n",
        "            task = input(\"Enter the task: \")\n",
        "            todo_list.add_task(task)\n",
        "        elif choice == \"2\":\n",
        "            todo_list.list_tasks()\n",
        "        elif choice == \"3\":\n",
        "            task_number = int(input(\"Enter the task number to mark as done: \"))\n",
        "            todo_list.mark_done(task_number)\n",
        "        elif choice == \"4\":\n",
        "            task_number = int(input(\"Enter the task number to remove: \"))\n",
        "            todo_list.remove_task(task_number)\n",
        "        elif choice == \"5\":\n",
        "            print(\"Exiting the To-Do List application.\")\n",
        "            break\n",
        "        else:\n",
        "            print(\"Invalid choice. Please try again.\")\n",
        "\n",
        "if __name__ == \"__main__\":\n",
        "    main()\n"
      ],
      "metadata": {
        "colab": {
          "base_uri": "https://localhost:8080/"
        },
        "id": "TBykqOBrmqxl",
        "outputId": "04ae8508-8342-4db4-f1cf-077afa0928de"
      },
      "execution_count": 14,
      "outputs": [
        {
          "output_type": "stream",
          "name": "stdout",
          "text": [
            "\n",
            "To-Do List Application\n",
            "1. Add task\n",
            "2. List tasks\n",
            "3. Mark task as done\n",
            "4. Remove task\n",
            "5. Exit\n",
            "Choose an option: 5\n",
            "Exiting the To-Do List application.\n"
          ]
        }
      ]
    },
    {
      "cell_type": "code",
      "source": [],
      "metadata": {
        "id": "8rRjLGycmv1B"
      },
      "execution_count": null,
      "outputs": []
    }
  ]
}